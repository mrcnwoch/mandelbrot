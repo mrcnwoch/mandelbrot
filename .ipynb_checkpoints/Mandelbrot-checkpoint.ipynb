{
 "cells": [
  {
   "cell_type": "code",
   "execution_count": 10,
   "id": "08377e9f",
   "metadata": {},
   "outputs": [],
   "source": [
    "import cmath\n",
    "import numpy as np\n",
    "import matplotlib.pyplot as plt"
   ]
  },
  {
   "cell_type": "code",
   "execution_count": 2,
   "id": "fdda17fc",
   "metadata": {},
   "outputs": [],
   "source": [
    "def z(n, c):\n",
    "    if n == 0:\n",
    "        return 0\n",
    "    else:\n",
    "        return z(n - 1, c) ** 2 + c"
   ]
  },
  {
   "cell_type": "code",
   "execution_count": 3,
   "id": "6281c7b7",
   "metadata": {},
   "outputs": [
    {
     "name": "stdout",
     "output_type": "stream",
     "text": [
      "z(0) = 0, |z(0)|= 0\n",
      "z(1) = (-1-0.25j), |z(1)|= 1.0307764064044151\n",
      "z(2) = (-0.0625+0.25j), |z(2)|= 0.2576941016011038\n",
      "z(3) = (-1.05859375-0.28125j), |z(3)|= 1.0953183510007776\n",
      "z(4) = (0.0415191650390625+0.345458984375j), |z(4)|= 0.3479450401298277\n",
      "z(5) = (-1.1176180688198656-0.22131366282701492j), |z(5)|= 1.1393199221933037\n",
      "z(6) = (0.2000904103987362+0.24468829690435856j), |z(6)|= 0.3160831140309305\n",
      "z(7) = (-1.0198361903084208-0.15208043650527817j), |z(7)|= 1.03111314327305\n",
      "z(8) = (0.016937395895157525+0.06019426597196914j), |z(8)|= 0.06253179219895637\n",
      "z(9) = (-1.0033364742761948-0.2479609317732287j), |z(9)|= 1.0335224740172964\n"
     ]
    }
   ],
   "source": [
    "c = -1 + 1/4j\n",
    "for n in range(10):\n",
    "    no = z(n, c = c)\n",
    "    print(f\"z({n}) = {no}, |z({n})|= {abs(no)}\")"
   ]
  },
  {
   "cell_type": "code",
   "execution_count": 4,
   "id": "e5f262d8",
   "metadata": {},
   "outputs": [],
   "source": [
    "def z_seq(c, z = 0):\n",
    "    while True:\n",
    "        yield z\n",
    "        z = z ** 2 + c"
   ]
  },
  {
   "cell_type": "code",
   "execution_count": 5,
   "id": "f7500bd1",
   "metadata": {},
   "outputs": [
    {
     "name": "stdout",
     "output_type": "stream",
     "text": [
      "z(0) = (-1.0033364742761948-0.2479609317732287j), |z(0)|= 1.0335224740172964\n",
      "z(1) = (-1.0033364742761948-0.2479609317732287j), |z(1)|= 1.0335224740172964\n",
      "z(2) = (-1.0033364742761948-0.2479609317732287j), |z(2)|= 1.0335224740172964\n",
      "z(3) = (-1.0033364742761948-0.2479609317732287j), |z(3)|= 1.0335224740172964\n",
      "z(4) = (-1.0033364742761948-0.2479609317732287j), |z(4)|= 1.0335224740172964\n",
      "z(5) = (-1.0033364742761948-0.2479609317732287j), |z(5)|= 1.0335224740172964\n",
      "z(6) = (-1.0033364742761948-0.2479609317732287j), |z(6)|= 1.0335224740172964\n",
      "z(7) = (-1.0033364742761948-0.2479609317732287j), |z(7)|= 1.0335224740172964\n",
      "z(8) = (-1.0033364742761948-0.2479609317732287j), |z(8)|= 1.0335224740172964\n",
      "z(9) = (-1.0033364742761948-0.2479609317732287j), |z(9)|= 1.0335224740172964\n"
     ]
    }
   ],
   "source": [
    "c = -1 + 1/4j\n",
    "for n, z in enumerate(z_seq(c = c)):\n",
    "    print(f\"z({n}) = {no}, |z({n})|= {abs(no)}\")\n",
    "    if n >= 9:\n",
    "        break"
   ]
  },
  {
   "cell_type": "code",
   "execution_count": 6,
   "id": "024d2416",
   "metadata": {},
   "outputs": [],
   "source": [
    "def mandelbrot(candidate):\n",
    "    return sequence(z = 0, c = candidate)\n",
    "\n",
    "def julia(candidate, parameter):\n",
    "    return sequence(z = candidate, c = parameter)"
   ]
  },
  {
   "cell_type": "code",
   "execution_count": 7,
   "id": "396e22c3",
   "metadata": {},
   "outputs": [],
   "source": [
    "def complex_matrix(xmin, xmax, ymin, ymax, pixel_density):\n",
    "    re = np.linspace(xmin, xmax, int((xmax - xmin) * pixel_density))\n",
    "    im = np.linspace(ymin, ymax, int((ymax - ymin) * pixel_density))\n",
    "\n",
    "    return re[np.newaxis, :] + im[:, np.newaxis] * 1j"
   ]
  },
  {
   "cell_type": "code",
   "execution_count": 8,
   "id": "f56939e3",
   "metadata": {},
   "outputs": [],
   "source": [
    "def is_stable(c, num_iterations):\n",
    "    z = 0\n",
    "    for _ in range(num_iterations):\n",
    "        z = z ** 2 + c\n",
    "\n",
    "    return abs(z) <= 2"
   ]
  },
  {
   "cell_type": "code",
   "execution_count": 9,
   "id": "a69ecd0a",
   "metadata": {},
   "outputs": [],
   "source": [
    "def get_members(c, num_iterations):\n",
    "    mask = is_stable(c, num_iterations)\n",
    "\n",
    "    return c[mask]"
   ]
  },
  {
   "cell_type": "code",
   "execution_count": 11,
   "id": "0a295185",
   "metadata": {},
   "outputs": [
    {
     "name": "stderr",
     "output_type": "stream",
     "text": [
      "/var/folders/1r/gqndfx510m989945lxrv5rn471yynn/T/ipykernel_64198/1058933356.py:4: RuntimeWarning: overflow encountered in square\n",
      "  z = z ** 2 + c\n",
      "/var/folders/1r/gqndfx510m989945lxrv5rn471yynn/T/ipykernel_64198/1058933356.py:4: RuntimeWarning: invalid value encountered in square\n",
      "  z = z ** 2 + c\n"
     ]
    },
    {
     "data": {
      "image/png": "[encoded data removed]",
      "text/plain": [
       "<Figure size 432x288 with 1 Axes>"
      ]
     },
     "metadata": {
      "needs_background": "light"
     },
     "output_type": "display_data"
    }
   ],
   "source": [
    "c = complex_matrix(-2, 0.5, -1.5, 1.5, pixel_density=21)\n",
    "members = get_members(c, num_iterations=20)\n",
    "\n",
    "plt.scatter(members.real, members.imag, color=\"black\", marker=\",\", s=1)\n",
    "plt.gca().set_aspect(\"equal\")\n",
    "plt.axis(\"off\")\n",
    "plt.tight_layout()\n",
    "plt.show()"
   ]
  },
  {
   "cell_type": "code",
   "execution_count": 12,
   "id": "15f35ca4",
   "metadata": {},
   "outputs": [
    {
     "name": "stderr",
     "output_type": "stream",
     "text": [
      "/var/folders/1r/gqndfx510m989945lxrv5rn471yynn/T/ipykernel_64198/1058933356.py:4: RuntimeWarning: overflow encountered in square\n",
      "  z = z ** 2 + c\n",
      "/var/folders/1r/gqndfx510m989945lxrv5rn471yynn/T/ipykernel_64198/1058933356.py:4: RuntimeWarning: invalid value encountered in square\n",
      "  z = z ** 2 + c\n"
     ]
    },
    {
     "data": {
      "image/png": "[encoded data removed]",
      "text/plain": [
       "<Figure size 432x288 with 1 Axes>"
      ]
     },
     "metadata": {
      "needs_background": "light"
     },
     "output_type": "display_data"
    }
   ],
   "source": [
    "c = complex_matrix(-2, 0.5, -1.5, 1.5, pixel_density=512)\n",
    "\n",
    "plt.imshow(is_stable(c, num_iterations=20), cmap=\"binary\")\n",
    "plt.gca().set_aspect(\"equal\")\n",
    "plt.axis(\"off\")\n",
    "plt.tight_layout()\n",
    "plt.show()"
   ]
  },
  {
   "cell_type": "code",
   "execution_count": null,
   "id": "683cad6f",
   "metadata": {},
   "outputs": [],
   "source": []
  }
 ],
 "metadata": {
  "kernelspec": {
   "display_name": "Python 3 (ipykernel)",
   "language": "python",
   "name": "python3"
  },
  "language_info": {
   "codemirror_mode": {
    "name": "ipython",
    "version": 3
   },
   "file_extension": ".py",
   "mimetype": "text/x-python",
   "name": "python",
   "nbconvert_exporter": "python",
   "pygments_lexer": "ipython3",
   "version": "3.9.7"
  }
 },
 "nbformat": 4,
 "nbformat_minor": 5
}
