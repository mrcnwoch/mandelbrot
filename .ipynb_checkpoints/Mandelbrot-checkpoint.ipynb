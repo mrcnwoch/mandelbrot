{
 "cells": [
  {
   "cell_type": "code",
   "execution_count": 15,
   "id": "08377e9f",
   "metadata": {},
   "outputs": [],
   "source": [
    "import cmath"
   ]
  },
  {
   "cell_type": "code",
   "execution_count": 16,
   "id": "fdda17fc",
   "metadata": {},
   "outputs": [],
   "source": [
    "def z(n, c):\n",
    "    if n == 0:\n",
    "        return 0\n",
    "    else:\n",
    "        return z(n - 1, c) ** 2 + c"
   ]
  },
  {
   "cell_type": "code",
   "execution_count": 17,
   "id": "6281c7b7",
   "metadata": {},
   "outputs": [
    {
     "name": "stdout",
     "output_type": "stream",
     "text": [
      "z(0) = 0, |z(0)|= 0\n",
      "z(1) = (-1-0.25j), |z(1)|= 1.0307764064044151\n",
      "z(2) = (-0.0625+0.25j), |z(2)|= 0.2576941016011038\n",
      "z(3) = (-1.05859375-0.28125j), |z(3)|= 1.0953183510007776\n",
      "z(4) = (0.0415191650390625+0.345458984375j), |z(4)|= 0.3479450401298277\n",
      "z(5) = (-1.1176180688198656-0.22131366282701492j), |z(5)|= 1.1393199221933037\n",
      "z(6) = (0.2000904103987362+0.24468829690435856j), |z(6)|= 0.3160831140309305\n",
      "z(7) = (-1.0198361903084208-0.15208043650527817j), |z(7)|= 1.03111314327305\n",
      "z(8) = (0.016937395895157525+0.06019426597196914j), |z(8)|= 0.06253179219895637\n",
      "z(9) = (-1.0033364742761948-0.2479609317732287j), |z(9)|= 1.0335224740172964\n"
     ]
    }
   ],
   "source": [
    "c = -1 + 1/4j\n",
    "for n in range(10):\n",
    "    no=z(n, c=c)\n",
    "    print(f\"z({n}) = {no}, |z({n})|= {abs(no)}\")"
   ]
  },
  {
   "cell_type": "code",
   "execution_count": 20,
   "id": "e5f262d8",
   "metadata": {},
   "outputs": [],
   "source": [
    "def z_seq(c, z=0):\n",
    "    while True:\n",
    "        yield z\n",
    "        z = z ** 2 + c"
   ]
  },
  {
   "cell_type": "code",
   "execution_count": 21,
   "id": "e32d3b40",
   "metadata": {},
   "outputs": [
    {
     "name": "stdout",
     "output_type": "stream",
     "text": [
      "z(0) = (-1.0033364742761948-0.2479609317732287j), |z(0)|= 1.0335224740172964\n",
      "z(1) = (-1.0033364742761948-0.2479609317732287j), |z(1)|= 1.0335224740172964\n",
      "z(2) = (-1.0033364742761948-0.2479609317732287j), |z(2)|= 1.0335224740172964\n",
      "z(3) = (-1.0033364742761948-0.2479609317732287j), |z(3)|= 1.0335224740172964\n",
      "z(4) = (-1.0033364742761948-0.2479609317732287j), |z(4)|= 1.0335224740172964\n",
      "z(5) = (-1.0033364742761948-0.2479609317732287j), |z(5)|= 1.0335224740172964\n",
      "z(6) = (-1.0033364742761948-0.2479609317732287j), |z(6)|= 1.0335224740172964\n",
      "z(7) = (-1.0033364742761948-0.2479609317732287j), |z(7)|= 1.0335224740172964\n",
      "z(8) = (-1.0033364742761948-0.2479609317732287j), |z(8)|= 1.0335224740172964\n",
      "z(9) = (-1.0033364742761948-0.2479609317732287j), |z(9)|= 1.0335224740172964\n"
     ]
    }
   ],
   "source": [
    "c = -1 + 1/4j\n",
    "for n, z in enumerate(z_seq(c=c)):\n",
    "    print(f\"z({n}) = {no}, |z({n})|= {abs(no)}\")\n",
    "    if n >= 9:\n",
    "        break"
   ]
  },
  {
   "cell_type": "code",
   "execution_count": 22,
   "id": "2c6c5c56",
   "metadata": {},
   "outputs": [],
   "source": [
    "def mandelbrot(candidate):\n",
    "    return sequence(z=0, c=candidate)\n",
    "\n",
    "def julia(candidate, parameter):\n",
    "    return sequence(z=candidate, c=parameter)"
   ]
  },
  {
   "cell_type": "code",
   "execution_count": null,
   "id": "654e2109",
   "metadata": {},
   "outputs": [],
   "source": []
  }
 ],
 "metadata": {
  "kernelspec": {
   "display_name": "Python 3 (ipykernel)",
   "language": "python",
   "name": "python3"
  },
  "language_info": {
   "codemirror_mode": {
    "name": "ipython",
    "version": 3
   },
   "file_extension": ".py",
   "mimetype": "text/x-python",
   "name": "python",
   "nbconvert_exporter": "python",
   "pygments_lexer": "ipython3",
   "version": "3.9.7"
  }
 },
 "nbformat": 4,
 "nbformat_minor": 5
}
